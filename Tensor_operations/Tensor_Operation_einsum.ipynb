{
  "nbformat": 4,
  "nbformat_minor": 0,
  "metadata": {
    "colab": {
      "provenance": []
    },
    "kernelspec": {
      "name": "python3",
      "display_name": "Python 3"
    },
    "language_info": {
      "name": "python"
    }
  },
  "cells": [
    {
      "cell_type": "code",
      "execution_count": null,
      "metadata": {
        "colab": {
          "base_uri": "https://localhost:8080/"
        },
        "id": "eufFf68TVxbk",
        "outputId": "4080ccd7-4344-434a-9053-74e75ef40b06"
      },
      "outputs": [
        {
          "output_type": "stream",
          "name": "stdout",
          "text": [
            "Requirement already satisfied: tensorflow in /usr/local/lib/python3.11/dist-packages (2.18.0)\n",
            "Requirement already satisfied: absl-py>=1.0.0 in /usr/local/lib/python3.11/dist-packages (from tensorflow) (1.4.0)\n",
            "Requirement already satisfied: astunparse>=1.6.0 in /usr/local/lib/python3.11/dist-packages (from tensorflow) (1.6.3)\n",
            "Requirement already satisfied: flatbuffers>=24.3.25 in /usr/local/lib/python3.11/dist-packages (from tensorflow) (25.2.10)\n",
            "Requirement already satisfied: gast!=0.5.0,!=0.5.1,!=0.5.2,>=0.2.1 in /usr/local/lib/python3.11/dist-packages (from tensorflow) (0.6.0)\n",
            "Requirement already satisfied: google-pasta>=0.1.1 in /usr/local/lib/python3.11/dist-packages (from tensorflow) (0.2.0)\n",
            "Requirement already satisfied: libclang>=13.0.0 in /usr/local/lib/python3.11/dist-packages (from tensorflow) (18.1.1)\n",
            "Requirement already satisfied: opt-einsum>=2.3.2 in /usr/local/lib/python3.11/dist-packages (from tensorflow) (3.4.0)\n",
            "Requirement already satisfied: packaging in /usr/local/lib/python3.11/dist-packages (from tensorflow) (24.2)\n",
            "Requirement already satisfied: protobuf!=4.21.0,!=4.21.1,!=4.21.2,!=4.21.3,!=4.21.4,!=4.21.5,<6.0.0dev,>=3.20.3 in /usr/local/lib/python3.11/dist-packages (from tensorflow) (4.25.6)\n",
            "Requirement already satisfied: requests<3,>=2.21.0 in /usr/local/lib/python3.11/dist-packages (from tensorflow) (2.32.3)\n",
            "Requirement already satisfied: setuptools in /usr/local/lib/python3.11/dist-packages (from tensorflow) (75.1.0)\n",
            "Requirement already satisfied: six>=1.12.0 in /usr/local/lib/python3.11/dist-packages (from tensorflow) (1.17.0)\n",
            "Requirement already satisfied: termcolor>=1.1.0 in /usr/local/lib/python3.11/dist-packages (from tensorflow) (2.5.0)\n",
            "Requirement already satisfied: typing-extensions>=3.6.6 in /usr/local/lib/python3.11/dist-packages (from tensorflow) (4.12.2)\n",
            "Requirement already satisfied: wrapt>=1.11.0 in /usr/local/lib/python3.11/dist-packages (from tensorflow) (1.17.2)\n",
            "Requirement already satisfied: grpcio<2.0,>=1.24.3 in /usr/local/lib/python3.11/dist-packages (from tensorflow) (1.70.0)\n",
            "Requirement already satisfied: tensorboard<2.19,>=2.18 in /usr/local/lib/python3.11/dist-packages (from tensorflow) (2.18.0)\n",
            "Requirement already satisfied: keras>=3.5.0 in /usr/local/lib/python3.11/dist-packages (from tensorflow) (3.8.0)\n",
            "Requirement already satisfied: numpy<2.1.0,>=1.26.0 in /usr/local/lib/python3.11/dist-packages (from tensorflow) (1.26.4)\n",
            "Requirement already satisfied: h5py>=3.11.0 in /usr/local/lib/python3.11/dist-packages (from tensorflow) (3.12.1)\n",
            "Requirement already satisfied: ml-dtypes<0.5.0,>=0.4.0 in /usr/local/lib/python3.11/dist-packages (from tensorflow) (0.4.1)\n",
            "Requirement already satisfied: tensorflow-io-gcs-filesystem>=0.23.1 in /usr/local/lib/python3.11/dist-packages (from tensorflow) (0.37.1)\n",
            "Requirement already satisfied: wheel<1.0,>=0.23.0 in /usr/local/lib/python3.11/dist-packages (from astunparse>=1.6.0->tensorflow) (0.45.1)\n",
            "Requirement already satisfied: rich in /usr/local/lib/python3.11/dist-packages (from keras>=3.5.0->tensorflow) (13.9.4)\n",
            "Requirement already satisfied: namex in /usr/local/lib/python3.11/dist-packages (from keras>=3.5.0->tensorflow) (0.0.8)\n",
            "Requirement already satisfied: optree in /usr/local/lib/python3.11/dist-packages (from keras>=3.5.0->tensorflow) (0.14.0)\n",
            "Requirement already satisfied: charset-normalizer<4,>=2 in /usr/local/lib/python3.11/dist-packages (from requests<3,>=2.21.0->tensorflow) (3.4.1)\n",
            "Requirement already satisfied: idna<4,>=2.5 in /usr/local/lib/python3.11/dist-packages (from requests<3,>=2.21.0->tensorflow) (3.10)\n",
            "Requirement already satisfied: urllib3<3,>=1.21.1 in /usr/local/lib/python3.11/dist-packages (from requests<3,>=2.21.0->tensorflow) (2.3.0)\n",
            "Requirement already satisfied: certifi>=2017.4.17 in /usr/local/lib/python3.11/dist-packages (from requests<3,>=2.21.0->tensorflow) (2025.1.31)\n",
            "Requirement already satisfied: markdown>=2.6.8 in /usr/local/lib/python3.11/dist-packages (from tensorboard<2.19,>=2.18->tensorflow) (3.7)\n",
            "Requirement already satisfied: tensorboard-data-server<0.8.0,>=0.7.0 in /usr/local/lib/python3.11/dist-packages (from tensorboard<2.19,>=2.18->tensorflow) (0.7.2)\n",
            "Requirement already satisfied: werkzeug>=1.0.1 in /usr/local/lib/python3.11/dist-packages (from tensorboard<2.19,>=2.18->tensorflow) (3.1.3)\n",
            "Requirement already satisfied: MarkupSafe>=2.1.1 in /usr/local/lib/python3.11/dist-packages (from werkzeug>=1.0.1->tensorboard<2.19,>=2.18->tensorflow) (3.0.2)\n",
            "Requirement already satisfied: markdown-it-py>=2.2.0 in /usr/local/lib/python3.11/dist-packages (from rich->keras>=3.5.0->tensorflow) (3.0.0)\n",
            "Requirement already satisfied: pygments<3.0.0,>=2.13.0 in /usr/local/lib/python3.11/dist-packages (from rich->keras>=3.5.0->tensorflow) (2.18.0)\n",
            "Requirement already satisfied: mdurl~=0.1 in /usr/local/lib/python3.11/dist-packages (from markdown-it-py>=2.2.0->rich->keras>=3.5.0->tensorflow) (0.1.2)\n"
          ]
        }
      ],
      "source": [
        "!pip install tensorflow"
      ]
    },
    {
      "cell_type": "code",
      "source": [
        "# Create various tensors\n",
        "import tensorflow as tf\n",
        "import numpy as np\n",
        "scalar = tf.constant(5, dtype=tf.int32)\n",
        "vector = tf.constant([1, 2, 3], dtype=tf.float32)\n",
        "matrix = tf.constant([[1, 2], [3, 4]], dtype=tf.float64)\n",
        "tensor = tf.constant(np.random.rand(3, 3, 3), dtype=tf.float32)"
      ],
      "metadata": {
        "id": "ED_KAa3pV43l"
      },
      "execution_count": null,
      "outputs": []
    },
    {
      "cell_type": "code",
      "source": [
        "import tensorflow as tf\n",
        "x = tf.constant(5)\n",
        "print(x)"
      ],
      "metadata": {
        "colab": {
          "base_uri": "https://localhost:8080/"
        },
        "id": "ZQrTN7mIV-wd",
        "outputId": "b321284e-5392-4a66-a452-44325a243887"
      },
      "execution_count": null,
      "outputs": [
        {
          "output_type": "stream",
          "name": "stdout",
          "text": [
            "tf.Tensor(5, shape=(), dtype=int32)\n"
          ]
        }
      ]
    },
    {
      "cell_type": "code",
      "source": [
        "#declaring tensor arrays\n",
        "import tensorflow as tf\n",
        "x = tf.constant([1,2,3,4,5])\n",
        "print(x)"
      ],
      "metadata": {
        "colab": {
          "base_uri": "https://localhost:8080/"
        },
        "id": "KatxSZLPWtV1",
        "outputId": "011d42a4-78ed-4128-9fb8-19183c276cb8"
      },
      "execution_count": null,
      "outputs": [
        {
          "output_type": "stream",
          "name": "stdout",
          "text": [
            "tf.Tensor([1 2 3 4 5], shape=(5,), dtype=int32)\n"
          ]
        }
      ]
    },
    {
      "cell_type": "code",
      "source": [
        "#constants in tensors 2 d\n",
        "import tensorflow as tf\n",
        "x = tf.constant([[1,2,3],[4,5,6]])\n",
        "print(x)"
      ],
      "metadata": {
        "colab": {
          "base_uri": "https://localhost:8080/"
        },
        "id": "QJAnlT5AWvGN",
        "outputId": "409aec40-3a58-44ce-9f04-5133b730f9e7"
      },
      "execution_count": null,
      "outputs": [
        {
          "output_type": "stream",
          "name": "stdout",
          "text": [
            "tf.Tensor(\n",
            "[[1 2 3]\n",
            " [4 5 6]], shape=(2, 3), dtype=int32)\n"
          ]
        }
      ]
    },
    {
      "cell_type": "code",
      "source": [
        "#converting tensors into numpy\n",
        "import tensorflow as tf\n",
        "x = tf.constant([[1,2,3],[4,5,6]])\n",
        "print(x.numpy())"
      ],
      "metadata": {
        "colab": {
          "base_uri": "https://localhost:8080/"
        },
        "id": "C65E789_Ww7o",
        "outputId": "017312a5-9dd7-47a7-821f-a5ca44b32674"
      },
      "execution_count": null,
      "outputs": [
        {
          "output_type": "stream",
          "name": "stdout",
          "text": [
            "[[1 2 3]\n",
            " [4 5 6]]\n"
          ]
        }
      ]
    },
    {
      "cell_type": "code",
      "source": [
        "#using tf ones and zeros\n",
        "print(tf.zeros(shape=[2,3]))\n",
        "print(tf.ones(shape=[2,3]))"
      ],
      "metadata": {
        "colab": {
          "base_uri": "https://localhost:8080/"
        },
        "id": "wHMDjaIHWyn7",
        "outputId": "7c3c5e01-62bc-429f-e036-e40586f3a7f8"
      },
      "execution_count": null,
      "outputs": [
        {
          "output_type": "stream",
          "name": "stdout",
          "text": [
            "tf.Tensor(\n",
            "[[0. 0. 0.]\n",
            " [0. 0. 0.]], shape=(2, 3), dtype=float32)\n",
            "tf.Tensor(\n",
            "[[1. 1. 1.]\n",
            " [1. 1. 1.]], shape=(2, 3), dtype=float32)\n"
          ]
        }
      ]
    },
    {
      "cell_type": "code",
      "source": [
        "initial_value = tf.random.normal(shape=(2, 2))\n",
        "a = tf.Variable(initial_value)\n",
        "print(a)"
      ],
      "metadata": {
        "colab": {
          "base_uri": "https://localhost:8080/"
        },
        "id": "YaqkpQBWW0lL",
        "outputId": "fd19650e-e165-4d43-dd69-adb7af848e46"
      },
      "execution_count": null,
      "outputs": [
        {
          "output_type": "stream",
          "name": "stdout",
          "text": [
            "<tf.Variable 'Variable:0' shape=(2, 2) dtype=float32, numpy=\n",
            "array([[-0.96839774,  0.9307927 ],\n",
            "       [-1.8184761 , -0.7733715 ]], dtype=float32)>\n"
          ]
        }
      ]
    },
    {
      "cell_type": "code",
      "source": [
        "#changing the tensor variables\n",
        "new_value = tf.random.normal(shape=(2, 2))\n",
        "a.assign(new_value)\n",
        "for i in range(2):\n",
        "  for j in range(2):\n",
        "    assert a[i, j] == new_value[i, j]\n",
        "a"
      ],
      "metadata": {
        "colab": {
          "base_uri": "https://localhost:8080/"
        },
        "id": "y5WaNTgjW2L3",
        "outputId": "f8dc2902-0b39-4c80-945c-be649b9b03f2"
      },
      "execution_count": null,
      "outputs": [
        {
          "output_type": "execute_result",
          "data": {
            "text/plain": [
              "<tf.Variable 'Variable:0' shape=(2, 2) dtype=float32, numpy=\n",
              "array([[ 1.4436731 , -1.143766  ],\n",
              "       [ 0.12977238, -1.2377614 ]], dtype=float32)>"
            ]
          },
          "metadata": {},
          "execution_count": 13
        }
      ]
    },
    {
      "cell_type": "code",
      "source": [
        "#math in tensors\n",
        "a = tf.random.normal(shape=(2, 2))\n",
        "b = tf.random.normal(shape=(2, 2))\n",
        "print(tf.add(a, b))\n",
        "print(tf.multiply(a, b))\n",
        "\n",
        "c = a + b\n",
        "d = tf.square(c)\n",
        "e = tf.exp(d)\n",
        "print(c)\n",
        "print(d)\n",
        "print(e)"
      ],
      "metadata": {
        "colab": {
          "base_uri": "https://localhost:8080/"
        },
        "id": "NzfxwePDW3pc",
        "outputId": "c6e7f72f-a9fa-4808-f60c-0a638d7b1e3c"
      },
      "execution_count": null,
      "outputs": [
        {
          "output_type": "stream",
          "name": "stdout",
          "text": [
            "tf.Tensor(\n",
            "[[-0.03444406 -0.06211057]\n",
            " [-0.36846972 -1.3876646 ]], shape=(2, 2), dtype=float32)\n",
            "tf.Tensor(\n",
            "[[-0.14248577 -0.14890918]\n",
            " [-0.34627303 -1.927724  ]], shape=(2, 2), dtype=float32)\n",
            "tf.Tensor(\n",
            "[[-0.03444406 -0.06211057]\n",
            " [-0.36846972 -1.3876646 ]], shape=(2, 2), dtype=float32)\n",
            "tf.Tensor(\n",
            "[[1.1863936e-03 3.8577232e-03]\n",
            " [1.3576993e-01 1.9256129e+00]], shape=(2, 2), dtype=float32)\n",
            "tf.Tensor(\n",
            "[[1.0011871 1.0038651]\n",
            " [1.1454183 6.8593516]], shape=(2, 2), dtype=float32)\n"
          ]
        }
      ]
    },
    {
      "cell_type": "code",
      "source": [
        "#computing gradients with gradient tape\n",
        "a = tf.random.normal(shape=(2, 2))\n",
        "b = tf.random.normal(shape=(2, 2))\n",
        "\n",
        "with tf.GradientTape() as tape:\n",
        "  tape.watch(a)\n",
        "  c = tf.sqrt(tf.square(a) + tf.square(b))\n",
        "  dc_da = tape.gradient(c, a)\n",
        "  print(dc_da)\n",
        "\n",
        "a = tf.Variable(a)\n",
        "\n",
        "with tf.GradientTape() as tape:\n",
        "  c = tf.sqrt(tf.square(a) + tf.square(b))\n",
        "  dc_da = tape.gradient(c, a)\n",
        "  print(dc_da)"
      ],
      "metadata": {
        "colab": {
          "base_uri": "https://localhost:8080/"
        },
        "id": "zYq-qtNGW-fU",
        "outputId": "008fc1ee-870f-425e-b777-9735d9482b4d"
      },
      "execution_count": null,
      "outputs": [
        {
          "output_type": "stream",
          "name": "stdout",
          "text": [
            "tf.Tensor(\n",
            "[[ 0.01860873 -0.567949  ]\n",
            " [ 0.5756695   0.97868234]], shape=(2, 2), dtype=float32)\n",
            "tf.Tensor(\n",
            "[[ 0.01860873 -0.567949  ]\n",
            " [ 0.5756695   0.97868234]], shape=(2, 2), dtype=float32)\n"
          ]
        }
      ]
    },
    {
      "cell_type": "code",
      "source": [
        "# Visualizing tensors\n",
        "import matplotlib.pyplot as plt\n",
        "import numpy as np\n",
        "plt.figure(figsize=(4, 4))\n",
        "plt.imshow(np.random.rand(10, 10), cmap='viridis')\n",
        "plt.title(\"Random Tensor Visualization\")\n",
        "plt.axis('off')\n",
        "plt.show()"
      ],
      "metadata": {
        "colab": {
          "base_uri": "https://localhost:8080/",
          "height": 367
        },
        "id": "7ltktEPsXASv",
        "outputId": "09c40f74-03b5-4daf-978f-d2521624347b"
      },
      "execution_count": null,
      "outputs": [
        {
          "output_type": "display_data",
          "data": {
            "text/plain": [
              "<Figure size 400x400 with 1 Axes>"
            ],
            "image/png": "[encoded data removed]"
          },
          "metadata": {}
        }
      ]
    },
    {
      "cell_type": "code",
      "source": [
        "# Einsum operations\n",
        "A = tf.constant([[1, 2], [3, 4]], dtype=tf.float32)\n",
        "B = tf.constant([[5, 6], [7, 8]], dtype=tf.float32)\n",
        "einsum_sum = tf.einsum('ij->', A)\n",
        "einsum_elementwise = tf.einsum('ij,ij->ij', A, B)\n",
        "einsum_outer = tf.einsum('i,j->ij', vector, vector)\n",
        "\n",
        "print(\"Einsum Summation:\", einsum_sum.numpy())\n",
        "print(\"Einsum Element-wise Multiplication:\\n\", einsum_elementwise.numpy())\n",
        "print(\"Einsum Outer Product:\\n\", einsum_outer.numpy())"
      ],
      "metadata": {
        "colab": {
          "base_uri": "https://localhost:8080/"
        },
        "id": "fiQ94fcbXWPn",
        "outputId": "93769ab6-8f71-4b5a-9654-08b2b842620d"
      },
      "execution_count": null,
      "outputs": [
        {
          "output_type": "stream",
          "name": "stdout",
          "text": [
            "Einsum Summation: 10.0\n",
            "Einsum Element-wise Multiplication:\n",
            " [[ 5. 12.]\n",
            " [21. 32.]]\n",
            "Einsum Outer Product:\n",
            " [[1. 2. 3.]\n",
            " [2. 4. 6.]\n",
            " [3. 6. 9.]]\n"
          ]
        }
      ]
    },
    {
      "cell_type": "code",
      "source": [
        "# Einsum visualization\n",
        "x = np.array([[1, 2], [3, 4]])\n",
        "y = np.array([[5, 6], [7, 8]])\n",
        "einsum_matrix_multiplication = np.einsum('ij,jk->ik', x, y)\n",
        "plt.figure(figsize=(5, 5))\n",
        "plt.imshow(einsum_matrix_multiplication, cmap='magma')\n",
        "plt.title(\"Einsum Matrix Multiplication\")\n",
        "plt.axis('off')\n",
        "plt.show()"
      ],
      "metadata": {
        "colab": {
          "base_uri": "https://localhost:8080/",
          "height": 444
        },
        "id": "ddn9UqtBXHdC",
        "outputId": "e9d4244c-8d6f-4b4a-fabb-e51ee236698b"
      },
      "execution_count": null,
      "outputs": [
        {
          "output_type": "display_data",
          "data": {
            "text/plain": [
              "<Figure size 500x500 with 1 Axes>"
            ],
            "image/png": "[encoded data removed]"
          },
          "metadata": {}
        }
      ]
    },
    {
      "cell_type": "code",
      "source": [
        "# Advanced operations\n",
        "reshaped_tensor = tf.reshape(tensor, [9, 3])\n",
        "sliced_tensor = tensor[:, :2, :]\n",
        "concatenated_tensor = tf.concat([matrix, matrix], axis=0)\n",
        "stacked_tensor = tf.stack([matrix, matrix], axis=0)\n",
        "\n",
        "eye_matrix = tf.eye(3)\n",
        "diag_matrix = tf.linalg.diag([1, 2, 3])\n",
        "trace_val = tf.linalg.trace(matrix)\n",
        "\n",
        "tensor_norm = tf.norm(matrix)\n",
        "rank_tensor = tf.rank(matrix)\n",
        "\n",
        "eigenvalues, eigenvectors = tf.linalg.eigh(tf.constant([[6., 2.], [2., 3.]]))\n",
        "\n",
        "print(\"Reshaped Tensor Shape:\", reshaped_tensor.shape)\n",
        "print(\"Sliced Tensor Shape:\", sliced_tensor.shape)\n",
        "print(\"Concatenated Tensor Shape:\", concatenated_tensor.shape)\n",
        "print(\"Stacked Tensor Shape:\", stacked_tensor.shape)\n",
        "print(\"Identity Matrix:\\n\", eye_matrix.numpy())\n",
        "print(\"Diagonal Matrix:\\n\", diag_matrix.numpy())\n",
        "print(\"Trace of Matrix:\", trace_val.numpy())\n",
        "print(\"Tensor Norm:\", tensor_norm.numpy())\n",
        "print(\"Tensor Rank:\", rank_tensor.numpy())\n",
        "print(\"Eigenvalues:\", eigenvalues.numpy())\n",
        "print(\"Eigenvectors:\\n\", eigenvectors.numpy())"
      ],
      "metadata": {
        "colab": {
          "base_uri": "https://localhost:8080/"
        },
        "id": "A3jayqOEXR73",
        "outputId": "e4aad5fb-10f6-4c5f-b4ee-80927c6dc031"
      },
      "execution_count": null,
      "outputs": [
        {
          "output_type": "stream",
          "name": "stdout",
          "text": [
            "Reshaped Tensor Shape: (9, 3)\n",
            "Sliced Tensor Shape: (3, 2, 3)\n",
            "Concatenated Tensor Shape: (4, 2)\n",
            "Stacked Tensor Shape: (2, 2, 2)\n",
            "Identity Matrix:\n",
            " [[1. 0. 0.]\n",
            " [0. 1. 0.]\n",
            " [0. 0. 1.]]\n",
            "Diagonal Matrix:\n",
            " [[1 0 0]\n",
            " [0 2 0]\n",
            " [0 0 3]]\n",
            "Trace of Matrix: 5.0\n",
            "Tensor Norm: 5.477225575051661\n",
            "Tensor Rank: 2\n",
            "Eigenvalues: [1.9999999 7.       ]\n",
            "Eigenvectors:\n",
            " [[-0.4472136  0.8944272]\n",
            " [ 0.8944272  0.4472136]]\n"
          ]
        }
      ]
    },
    {
      "cell_type": "code",
      "source": [
        "# Broadcasting example\n",
        "a = tf.constant([1, 2, 3])\n",
        "b = tf.constant([[1], [2], [3]])\n",
        "broadcast_result = a + b\n",
        "print(\"Broadcasting Result:\\n\", broadcast_result.numpy())"
      ],
      "metadata": {
        "colab": {
          "base_uri": "https://localhost:8080/"
        },
        "id": "R8lrx8GCXdbN",
        "outputId": "f475cd14-357e-4c62-a57a-7bedb4e4c1cf"
      },
      "execution_count": null,
      "outputs": [
        {
          "output_type": "stream",
          "name": "stdout",
          "text": [
            "Broadcasting Result:\n",
            " [[2 3 4]\n",
            " [3 4 5]\n",
            " [4 5 6]]\n"
          ]
        }
      ]
    },
    {
      "cell_type": "code",
      "source": [
        "plt.figure(figsize=(4, 4))\n",
        "plt.imshow(broadcast_result.numpy(), cmap='coolwarm')\n",
        "plt.title(\"Broadcasting Example\")\n",
        "plt.axis('off')\n",
        "plt.show()"
      ],
      "metadata": {
        "id": "TFXH-lc6Xtka",
        "outputId": "627f4e1f-20dd-45a6-8450-5b487c359a7f",
        "colab": {
          "base_uri": "https://localhost:8080/",
          "height": 367
        }
      },
      "execution_count": null,
      "outputs": [
        {
          "output_type": "display_data",
          "data": {
            "text/plain": [
              "<Figure size 400x400 with 1 Axes>"
            ],
            "image/png": "[encoded data removed]"
          },
          "metadata": {}
        }
      ]
    },
    {
      "cell_type": "code",
      "source": [
        "# Gradient computation\n",
        "x = tf.Variable(3.0)\n",
        "with tf.GradientTape() as tape:\n",
        "    y = x ** 2 + 3 * x + 5\n",
        "\n",
        "gradient = tape.gradient(y, x)\n",
        "print(\"Gradient dy/dx:\", gradient.numpy())"
      ],
      "metadata": {
        "id": "NNWO21BdXvRK",
        "outputId": "a34dc7fd-3ff4-4f9a-da39-5b738431d46c",
        "colab": {
          "base_uri": "https://localhost:8080/"
        }
      },
      "execution_count": null,
      "outputs": [
        {
          "output_type": "stream",
          "name": "stdout",
          "text": [
            "Gradient dy/dx: 9.0\n"
          ]
        }
      ]
    },
    {
      "cell_type": "code",
      "source": [],
      "metadata": {
        "id": "6cKlOZmnXxC_"
      },
      "execution_count": null,
      "outputs": []
    }
  ]
}