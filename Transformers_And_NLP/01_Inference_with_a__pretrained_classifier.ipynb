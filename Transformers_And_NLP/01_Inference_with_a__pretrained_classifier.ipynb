{
  "cells": [
    {
      "cell_type": "code",
      "execution_count": 7,
      "id": "867bed07",
      "metadata": {
        "colab": {
          "base_uri": "https://localhost:8080/"
        },
        "id": "867bed07",
        "outputId": "34d81e23-7cb7-4c6f-a1c4-9eefb7a1302b"
      },
      "outputs": [
        {
          "output_type": "stream",
          "name": "stdout",
          "text": [
            "TensorFlow version: 2.18.1\n",
            "Keras NLP version: 0.20.0\n"
          ]
        }
      ],
      "source": [
        "\"\"\"📦 Step 0: Install required packages and confirm versions\"\"\"\n",
        "!pip install -q --upgrade tensorflow keras-nlp\n",
        "\n",
        "import tensorflow as tf\n",
        "import keras_nlp\n",
        "print(f\"TensorFlow version: {tf.__version__}\")\n",
        "print(f\"Keras NLP version: {keras_nlp.__version__}\")\n"
      ]
    },
    {
      "cell_type": "code",
      "execution_count": 8,
      "id": "1f91cfa9",
      "metadata": {
        "colab": {
          "base_uri": "https://localhost:8080/",
          "height": 858
        },
        "id": "1f91cfa9",
        "outputId": "ce6cce81-a6fc-432d-d01a-4b8139326c2e"
      },
      "outputs": [
        {
          "output_type": "stream",
          "name": "stdout",
          "text": [
            "=== Text Classification with BERT ===\n"
          ]
        },
        {
          "output_type": "display_data",
          "data": {
            "text/plain": [
              "\u001b[1mPreprocessor: \"bert_text_classifier_preprocessor_2\"\u001b[0m\n"
            ],
            "text/html": [
              "<pre style=\"white-space:pre;overflow-x:auto;line-height:normal;font-family:Menlo,'DejaVu Sans Mono',consolas,'Courier New',monospace\"><span style=\"font-weight: bold\">Preprocessor: \"bert_text_classifier_preprocessor_2\"</span>\n",
              "</pre>\n"
            ]
          },
          "metadata": {}
        },
        {
          "output_type": "display_data",
          "data": {
            "text/plain": [
              "┏━━━━━━━━━━━━━━━━━━━━━━━━━━━━━━━━━━━━━━━━━━━━━━━━━━━━━━━━━━┳━━━━━━━━━━━━━━━━━━━━━━━━━━━━━━━━━━━━━━━┓\n",
              "┃\u001b[1m \u001b[0m\u001b[1mLayer (type)                                            \u001b[0m\u001b[1m \u001b[0m┃\u001b[1m \u001b[0m\u001b[1m                               Config\u001b[0m\u001b[1m \u001b[0m┃\n",
              "┡━━━━━━━━━━━━━━━━━━━━━━━━━━━━━━━━━━━━━━━━━━━━━━━━━━━━━━━━━━╇━━━━━━━━━━━━━━━━━━━━━━━━━━━━━━━━━━━━━━━┩\n",
              "│ bert_tokenizer (\u001b[38;5;33mBertTokenizer\u001b[0m)                           │                    Vocab size: \u001b[38;5;34m30,522\u001b[0m │\n",
              "└──────────────────────────────────────────────────────────┴───────────────────────────────────────┘\n"
            ],
            "text/html": [
              "<pre style=\"white-space:pre;overflow-x:auto;line-height:normal;font-family:Menlo,'DejaVu Sans Mono',consolas,'Courier New',monospace\">┏━━━━━━━━━━━━━━━━━━━━━━━━━━━━━━━━━━━━━━━━━━━━━━━━━━━━━━━━━━┳━━━━━━━━━━━━━━━━━━━━━━━━━━━━━━━━━━━━━━━┓\n",
              "┃<span style=\"font-weight: bold\"> Layer (type)                                             </span>┃<span style=\"font-weight: bold\">                                Config </span>┃\n",
              "┡━━━━━━━━━━━━━━━━━━━━━━━━━━━━━━━━━━━━━━━━━━━━━━━━━━━━━━━━━━╇━━━━━━━━━━━━━━━━━━━━━━━━━━━━━━━━━━━━━━━┩\n",
              "│ bert_tokenizer (<span style=\"color: #0087ff; text-decoration-color: #0087ff\">BertTokenizer</span>)                           │                    Vocab size: <span style=\"color: #00af00; text-decoration-color: #00af00\">30,522</span> │\n",
              "└──────────────────────────────────────────────────────────┴───────────────────────────────────────┘\n",
              "</pre>\n"
            ]
          },
          "metadata": {}
        },
        {
          "output_type": "display_data",
          "data": {
            "text/plain": [
              "\u001b[1mModel: \"bert_text_classifier_2\"\u001b[0m\n"
            ],
            "text/html": [
              "<pre style=\"white-space:pre;overflow-x:auto;line-height:normal;font-family:Menlo,'DejaVu Sans Mono',consolas,'Courier New',monospace\"><span style=\"font-weight: bold\">Model: \"bert_text_classifier_2\"</span>\n",
              "</pre>\n"
            ]
          },
          "metadata": {}
        },
        {
          "output_type": "display_data",
          "data": {
            "text/plain": [
              "┏━━━━━━━━━━━━━━━━━━━━━━━━━━━━━┳━━━━━━━━━━━━━━━━━━━━━━━━━┳━━━━━━━━━━━━━━━━┳━━━━━━━━━━━━━━━━━━━━━━━━━┓\n",
              "┃\u001b[1m \u001b[0m\u001b[1mLayer (type)               \u001b[0m\u001b[1m \u001b[0m┃\u001b[1m \u001b[0m\u001b[1mOutput Shape           \u001b[0m\u001b[1m \u001b[0m┃\u001b[1m \u001b[0m\u001b[1m       Param #\u001b[0m\u001b[1m \u001b[0m┃\u001b[1m \u001b[0m\u001b[1mConnected to           \u001b[0m\u001b[1m \u001b[0m┃\n",
              "┡━━━━━━━━━━━━━━━━━━━━━━━━━━━━━╇━━━━━━━━━━━━━━━━━━━━━━━━━╇━━━━━━━━━━━━━━━━╇━━━━━━━━━━━━━━━━━━━━━━━━━┩\n",
              "│ padding_mask (\u001b[38;5;33mInputLayer\u001b[0m)   │ (\u001b[38;5;45mNone\u001b[0m, \u001b[38;5;45mNone\u001b[0m)            │              \u001b[38;5;34m0\u001b[0m │ -                       │\n",
              "├─────────────────────────────┼─────────────────────────┼────────────────┼─────────────────────────┤\n",
              "│ segment_ids (\u001b[38;5;33mInputLayer\u001b[0m)    │ (\u001b[38;5;45mNone\u001b[0m, \u001b[38;5;45mNone\u001b[0m)            │              \u001b[38;5;34m0\u001b[0m │ -                       │\n",
              "├─────────────────────────────┼─────────────────────────┼────────────────┼─────────────────────────┤\n",
              "│ token_ids (\u001b[38;5;33mInputLayer\u001b[0m)      │ (\u001b[38;5;45mNone\u001b[0m, \u001b[38;5;45mNone\u001b[0m)            │              \u001b[38;5;34m0\u001b[0m │ -                       │\n",
              "├─────────────────────────────┼─────────────────────────┼────────────────┼─────────────────────────┤\n",
              "│ bert_backbone               │ [(\u001b[38;5;45mNone\u001b[0m, \u001b[38;5;34m768\u001b[0m), (\u001b[38;5;45mNone\u001b[0m,    │    \u001b[38;5;34m109,482,240\u001b[0m │ padding_mask[\u001b[38;5;34m0\u001b[0m][\u001b[38;5;34m0\u001b[0m],     │\n",
              "│ (\u001b[38;5;33mBertBackbone\u001b[0m)              │ \u001b[38;5;45mNone\u001b[0m, \u001b[38;5;34m768\u001b[0m)]             │                │ segment_ids[\u001b[38;5;34m0\u001b[0m][\u001b[38;5;34m0\u001b[0m],      │\n",
              "│                             │                         │                │ token_ids[\u001b[38;5;34m0\u001b[0m][\u001b[38;5;34m0\u001b[0m]         │\n",
              "├─────────────────────────────┼─────────────────────────┼────────────────┼─────────────────────────┤\n",
              "│ classifier_dropout          │ (\u001b[38;5;45mNone\u001b[0m, \u001b[38;5;34m768\u001b[0m)             │              \u001b[38;5;34m0\u001b[0m │ bert_backbone[\u001b[38;5;34m0\u001b[0m][\u001b[38;5;34m0\u001b[0m]     │\n",
              "│ (\u001b[38;5;33mDropout\u001b[0m)                   │                         │                │                         │\n",
              "├─────────────────────────────┼─────────────────────────┼────────────────┼─────────────────────────┤\n",
              "│ logits (\u001b[38;5;33mDense\u001b[0m)              │ (\u001b[38;5;45mNone\u001b[0m, \u001b[38;5;34m2\u001b[0m)               │          \u001b[38;5;34m1,538\u001b[0m │ classifier_dropout[\u001b[38;5;34m0\u001b[0m][\u001b[38;5;34m…\u001b[0m │\n",
              "└─────────────────────────────┴─────────────────────────┴────────────────┴─────────────────────────┘\n"
            ],
            "text/html": [
              "<pre style=\"white-space:pre;overflow-x:auto;line-height:normal;font-family:Menlo,'DejaVu Sans Mono',consolas,'Courier New',monospace\">┏━━━━━━━━━━━━━━━━━━━━━━━━━━━━━┳━━━━━━━━━━━━━━━━━━━━━━━━━┳━━━━━━━━━━━━━━━━┳━━━━━━━━━━━━━━━━━━━━━━━━━┓\n",
              "┃<span style=\"font-weight: bold\"> Layer (type)                </span>┃<span style=\"font-weight: bold\"> Output Shape            </span>┃<span style=\"font-weight: bold\">        Param # </span>┃<span style=\"font-weight: bold\"> Connected to            </span>┃\n",
              "┡━━━━━━━━━━━━━━━━━━━━━━━━━━━━━╇━━━━━━━━━━━━━━━━━━━━━━━━━╇━━━━━━━━━━━━━━━━╇━━━━━━━━━━━━━━━━━━━━━━━━━┩\n",
              "│ padding_mask (<span style=\"color: #0087ff; text-decoration-color: #0087ff\">InputLayer</span>)   │ (<span style=\"color: #00d7ff; text-decoration-color: #00d7ff\">None</span>, <span style=\"color: #00d7ff; text-decoration-color: #00d7ff\">None</span>)            │              <span style=\"color: #00af00; text-decoration-color: #00af00\">0</span> │ -                       │\n",
              "├─────────────────────────────┼─────────────────────────┼────────────────┼─────────────────────────┤\n",
              "│ segment_ids (<span style=\"color: #0087ff; text-decoration-color: #0087ff\">InputLayer</span>)    │ (<span style=\"color: #00d7ff; text-decoration-color: #00d7ff\">None</span>, <span style=\"color: #00d7ff; text-decoration-color: #00d7ff\">None</span>)            │              <span style=\"color: #00af00; text-decoration-color: #00af00\">0</span> │ -                       │\n",
              "├─────────────────────────────┼─────────────────────────┼────────────────┼─────────────────────────┤\n",
              "│ token_ids (<span style=\"color: #0087ff; text-decoration-color: #0087ff\">InputLayer</span>)      │ (<span style=\"color: #00d7ff; text-decoration-color: #00d7ff\">None</span>, <span style=\"color: #00d7ff; text-decoration-color: #00d7ff\">None</span>)            │              <span style=\"color: #00af00; text-decoration-color: #00af00\">0</span> │ -                       │\n",
              "├─────────────────────────────┼─────────────────────────┼────────────────┼─────────────────────────┤\n",
              "│ bert_backbone               │ [(<span style=\"color: #00d7ff; text-decoration-color: #00d7ff\">None</span>, <span style=\"color: #00af00; text-decoration-color: #00af00\">768</span>), (<span style=\"color: #00d7ff; text-decoration-color: #00d7ff\">None</span>,    │    <span style=\"color: #00af00; text-decoration-color: #00af00\">109,482,240</span> │ padding_mask[<span style=\"color: #00af00; text-decoration-color: #00af00\">0</span>][<span style=\"color: #00af00; text-decoration-color: #00af00\">0</span>],     │\n",
              "│ (<span style=\"color: #0087ff; text-decoration-color: #0087ff\">BertBackbone</span>)              │ <span style=\"color: #00d7ff; text-decoration-color: #00d7ff\">None</span>, <span style=\"color: #00af00; text-decoration-color: #00af00\">768</span>)]             │                │ segment_ids[<span style=\"color: #00af00; text-decoration-color: #00af00\">0</span>][<span style=\"color: #00af00; text-decoration-color: #00af00\">0</span>],      │\n",
              "│                             │                         │                │ token_ids[<span style=\"color: #00af00; text-decoration-color: #00af00\">0</span>][<span style=\"color: #00af00; text-decoration-color: #00af00\">0</span>]         │\n",
              "├─────────────────────────────┼─────────────────────────┼────────────────┼─────────────────────────┤\n",
              "│ classifier_dropout          │ (<span style=\"color: #00d7ff; text-decoration-color: #00d7ff\">None</span>, <span style=\"color: #00af00; text-decoration-color: #00af00\">768</span>)             │              <span style=\"color: #00af00; text-decoration-color: #00af00\">0</span> │ bert_backbone[<span style=\"color: #00af00; text-decoration-color: #00af00\">0</span>][<span style=\"color: #00af00; text-decoration-color: #00af00\">0</span>]     │\n",
              "│ (<span style=\"color: #0087ff; text-decoration-color: #0087ff\">Dropout</span>)                   │                         │                │                         │\n",
              "├─────────────────────────────┼─────────────────────────┼────────────────┼─────────────────────────┤\n",
              "│ logits (<span style=\"color: #0087ff; text-decoration-color: #0087ff\">Dense</span>)              │ (<span style=\"color: #00d7ff; text-decoration-color: #00d7ff\">None</span>, <span style=\"color: #00af00; text-decoration-color: #00af00\">2</span>)               │          <span style=\"color: #00af00; text-decoration-color: #00af00\">1,538</span> │ classifier_dropout[<span style=\"color: #00af00; text-decoration-color: #00af00\">0</span>][<span style=\"color: #00af00; text-decoration-color: #00af00\">…</span> │\n",
              "└─────────────────────────────┴─────────────────────────┴────────────────┴─────────────────────────┘\n",
              "</pre>\n"
            ]
          },
          "metadata": {}
        },
        {
          "output_type": "display_data",
          "data": {
            "text/plain": [
              "\u001b[1m Total params: \u001b[0m\u001b[38;5;34m109,483,778\u001b[0m (417.65 MB)\n"
            ],
            "text/html": [
              "<pre style=\"white-space:pre;overflow-x:auto;line-height:normal;font-family:Menlo,'DejaVu Sans Mono',consolas,'Courier New',monospace\"><span style=\"font-weight: bold\"> Total params: </span><span style=\"color: #00af00; text-decoration-color: #00af00\">109,483,778</span> (417.65 MB)\n",
              "</pre>\n"
            ]
          },
          "metadata": {}
        },
        {
          "output_type": "display_data",
          "data": {
            "text/plain": [
              "\u001b[1m Trainable params: \u001b[0m\u001b[38;5;34m109,483,778\u001b[0m (417.65 MB)\n"
            ],
            "text/html": [
              "<pre style=\"white-space:pre;overflow-x:auto;line-height:normal;font-family:Menlo,'DejaVu Sans Mono',consolas,'Courier New',monospace\"><span style=\"font-weight: bold\"> Trainable params: </span><span style=\"color: #00af00; text-decoration-color: #00af00\">109,483,778</span> (417.65 MB)\n",
              "</pre>\n"
            ]
          },
          "metadata": {}
        },
        {
          "output_type": "display_data",
          "data": {
            "text/plain": [
              "\u001b[1m Non-trainable params: \u001b[0m\u001b[38;5;34m0\u001b[0m (0.00 B)\n"
            ],
            "text/html": [
              "<pre style=\"white-space:pre;overflow-x:auto;line-height:normal;font-family:Menlo,'DejaVu Sans Mono',consolas,'Courier New',monospace\"><span style=\"font-weight: bold\"> Non-trainable params: </span><span style=\"color: #00af00; text-decoration-color: #00af00\">0</span> (0.00 B)\n",
              "</pre>\n"
            ]
          },
          "metadata": {}
        },
        {
          "output_type": "stream",
          "name": "stdout",
          "text": [
            "\n",
            "Inference with BERT Classifier:\n",
            "\u001b[1m1/1\u001b[0m \u001b[32m━━━━━━━━━━━━━━━━━━━━\u001b[0m\u001b[37m\u001b[0m \u001b[1m16s\u001b[0m 16s/step\n",
            "\n",
            "Classification results:\n",
            "Text: I can't believe how bad the customer service was at that bank.\n",
            "Prediction: Positive (Confidence: 0.5714)\n",
            "--------------------------------------------------\n",
            "Text: The new smartphone has incredible battery life and a stunning display!\n",
            "Prediction: Positive (Confidence: 0.6686)\n",
            "--------------------------------------------------\n",
            "Text: Honestly, I'm undecided about the movie. Some parts were good, others not so much.\n",
            "Prediction: Positive (Confidence: 0.5337)\n",
            "--------------------------------------------------\n",
            "Text: Despite the delay, the airline staff handled everything professionally.\n",
            "Prediction: Positive (Confidence: 0.6354)\n",
            "--------------------------------------------------\n",
            "Text: This internship has been a transformative learning experience for me.\n",
            "Prediction: Positive (Confidence: 0.5629)\n",
            "--------------------------------------------------\n"
          ]
        }
      ],
      "source": [
        "\"\"\" Section 1: Inference using a pretrained BERT classifier\"\"\"\n",
        "print(\"=== Text Classification with BERT ===\")\n",
        "\n",
        "classifier = keras_nlp.models.BertClassifier.from_preset(\n",
        "    \"bert_base_en_uncased\",\n",
        "    num_classes=2\n",
        ")\n",
        "classifier.summary(line_length=100)\n",
        "\n",
        "examples = [\n",
        "    \"I can't believe how bad the customer service was at that bank.\",\n",
        "    \"The new smartphone has incredible battery life and a stunning display!\",\n",
        "    \"Honestly, I'm undecided about the movie. Some parts were good, others not so much.\",\n",
        "    \"Despite the delay, the airline staff handled everything professionally.\",\n",
        "    \"This internship has been a transformative learning experience for me.\"\n",
        "]\n",
        "\n",
        "print(\"\\nInference with BERT Classifier:\")\n",
        "results = classifier.predict(examples)\n",
        "\n",
        "import numpy as np\n",
        "def softmax(x):\n",
        "    exp_x = np.exp(x - np.max(x, axis=1, keepdims=True))\n",
        "    return exp_x / np.sum(exp_x, axis=1, keepdims=True)\n",
        "\n",
        "probabilities = softmax(results)\n",
        "\n",
        "print(\"\\nClassification results:\")\n",
        "for i, example in enumerate(examples):\n",
        "    predicted_class = np.argmax(probabilities[i])\n",
        "    confidence = probabilities[i][predicted_class]\n",
        "    sentiment = \"Positive\" if predicted_class == 1 else \"Negative\"\n",
        "    print(f\"Text: {example}\")\n",
        "    print(f\"Prediction: {sentiment} (Confidence: {confidence:.4f})\")\n",
        "    print(\"-\" * 50)\n"
      ]
    },
    {
      "cell_type": "code",
      "execution_count": 9,
      "id": "1fbdf3b2",
      "metadata": {
        "colab": {
          "base_uri": "https://localhost:8080/"
        },
        "id": "1fbdf3b2",
        "outputId": "a4d48461-214a-4d2a-e38b-8abc4cac20e6"
      },
      "outputs": [
        {
          "output_type": "stream",
          "name": "stdout",
          "text": [
            "\n",
            "=== Using BERT for Sentence Embeddings ===\n",
            "\n",
            "Generated embeddings successfully.\n",
            "Embeddings shape: (4, 768)\n"
          ]
        }
      ],
      "source": [
        "\"\"\" Section 2: Sentence Embeddings using BERT pooled output\"\"\"\n",
        "print(\"\\n=== Using BERT for Sentence Embeddings ===\")\n",
        "\n",
        "embedding_model = keras_nlp.models.BertClassifier.from_preset(\n",
        "    \"bert_base_en_uncased\",\n",
        "    num_classes=2,\n",
        "    classifier_activation=None\n",
        ")\n",
        "\n",
        "def get_embeddings(texts):\n",
        "    inputs = embedding_model.preprocessor(texts)\n",
        "    outputs = embedding_model.backbone(inputs)\n",
        "    return outputs[\"pooled_output\"].numpy()\n",
        "\n",
        "sentences = [\n",
        "    \"Cloud computing enables businesses to scale their infrastructure efficiently.\",\n",
        "    \"Statistical models are the foundation of modern data science workflows.\",\n",
        "    \"Interning at a startup taught me how to wear multiple hats under pressure.\",\n",
        "    \"I regularly follow AI policy discussions to understand ethical implications.\"\n",
        "]\n",
        "\n",
        "embeddings = get_embeddings(sentences)\n",
        "print(\"\\nGenerated embeddings successfully.\")\n",
        "print(f\"Embeddings shape: {embeddings.shape}\")\n"
      ]
    },
    {
      "cell_type": "code",
      "execution_count": 10,
      "id": "49ab0025",
      "metadata": {
        "colab": {
          "base_uri": "https://localhost:8080/",
          "height": 911
        },
        "id": "49ab0025",
        "outputId": "2a705a25-c8fe-4674-e1bf-50013d9157f0"
      },
      "outputs": [
        {
          "output_type": "display_data",
          "data": {
            "text/plain": [
              "<Figure size 1000x800 with 2 Axes>"
            ],
            "image/png": "[encoded data removed]"
          },
          "metadata": {}
        },
        {
          "output_type": "stream",
          "name": "stdout",
          "text": [
            "\n",
            "Sentences:\n",
            "S1: Cloud computing enables businesses to scale their infrastructure efficiently.\n",
            "S2: Statistical models are the foundation of modern data science workflows.\n",
            "S3: Interning at a startup taught me how to wear multiple hats under pressure.\n",
            "S4: I regularly follow AI policy discussions to understand ethical implications.\n"
          ]
        }
      ],
      "source": [
        "\"\"\" Visualize cosine similarity between sentence embeddings\"\"\"\n",
        "import matplotlib.pyplot as plt\n",
        "\n",
        "def cosine_similarity(a, b):\n",
        "    return np.dot(a, b) / (np.linalg.norm(a) * np.linalg.norm(b))\n",
        "\n",
        "similarity_matrix = np.zeros((len(sentences), len(sentences)))\n",
        "for i in range(len(sentences)):\n",
        "    for j in range(len(sentences)):\n",
        "        similarity_matrix[i, j] = cosine_similarity(embeddings[i], embeddings[j])\n",
        "\n",
        "plt.figure(figsize=(10, 8))\n",
        "plt.imshow(similarity_matrix, cmap='viridis')\n",
        "plt.colorbar()\n",
        "plt.xticks(np.arange(len(sentences)), [f\"S{i+1}\" for i in range(len(sentences))], rotation=45)\n",
        "plt.yticks(np.arange(len(sentences)), [f\"S{i+1}\" for i in range(len(sentences))])\n",
        "for i in range(len(sentences)):\n",
        "    for j in range(len(sentences)):\n",
        "        plt.text(j, i, f\"{similarity_matrix[i, j]:.2f}\", ha='center', va='center', color='white')\n",
        "plt.title('Cosine Similarity Between Sentence Embeddings')\n",
        "plt.tight_layout()\n",
        "plt.show()\n",
        "\n",
        "print(\"\\nSentences:\")\n",
        "for i, sentence in enumerate(sentences):\n",
        "    print(f\"S{i+1}: {sentence}\")\n"
      ]
    },
    {
      "cell_type": "code",
      "execution_count": 11,
      "id": "bbccc54a",
      "metadata": {
        "colab": {
          "base_uri": "https://localhost:8080/"
        },
        "id": "bbccc54a",
        "outputId": "660e7eed-1200-4532-a049-6503cc8fe345"
      },
      "outputs": [
        {
          "output_type": "stream",
          "name": "stdout",
          "text": [
            "\n",
            "=== Text Generation with GPT-2 ===\n",
            "Prompt: Large language models have revolutionized how we\n",
            "Generated text: Large language models have revolutionized how we communicate. We can use language models to help us to communicate and understand the world, or to understand the world as a whole. These languages have the potential to change how we understand and understand our surroundings.\n",
            "\n",
            "Language models have been around a long time, and they've been around for decades. The language models are the best way to learn new languages.\n",
            "\n",
            "What languages do you use when speaking to your friends? Are they good or bad?\n",
            "--------------------------------------------------------------------------------\n",
            "Prompt: A successful data science project begins with\n",
            "Generated text: A successful data science project begins with a simple question: what do we know about our data? In this blog post I will provide a simple answer: the answer is a lot of fun.\n",
            "\n",
            "In this case I am a data scientist. In this blog post we will use our knowledge of data science to help us understand data science and the data science community.\n",
            "\n",
            "What we will be using\n",
            "\n",
            "The first thing we will be using is the data scientist's tools.\n",
            "\n",
            "This\n",
            "--------------------------------------------------------------------------------\n",
            "Prompt: In the next decade, we expect artificial intelligence to\n",
            "Generated text: In the next decade, we expect artificial intelligence to become a major technology industry, as we have seen with the advent of artificial intelligence. In this article, we discuss how AI will become the dominant technology in the world.\n",
            "\n",
            "How AI Will Become the dominant technology industry in the world, as we have seen with the advent of AI.\n",
            "\n",
            "The rise of AI will not be a new trend, as we have already witnessed with artificial intelligence. However, it is likely that AI has become\n",
            "--------------------------------------------------------------------------------\n",
            "Prompt: One of the biggest ethical challenges in AI is\n",
            "Generated text: One of the biggest ethical challenges in AI is the fact that the algorithms are so complex that they can't even understand the code. The problem is, the algorithms are not just complex, but also complex and complex and complex!\n",
            "\n",
            "This is why I am so excited to be part of this team, and why I am so excited to be part of this team.\n",
            "\n",
            "The goal is to create a platform that will help developers understand what is possible in the artificial intelligence world, and what\n",
            "--------------------------------------------------------------------------------\n",
            "Prompt: Using generative models in healthcare can help doctors\n",
            "Generated text: Using generative models in healthcare can help doctors identify patients who need treatment and treat them, said Dr. David B. Lippman, professor of medical ethics at the University of Pennsylvania School of Medicine and the lead author of the paper. He and his colleagues used an approach called a model-based approach, which allows researchers to model the health of individuals and groups using data collected over a long period.\n",
            "\n",
            "In this study, researchers used an automated model to identify patients who had been treated\n",
            "--------------------------------------------------------------------------------\n"
          ]
        }
      ],
      "source": [
        "\"\"\" Section 3: Text Generation using GPT-2 from keras-nlp\"\"\"\n",
        "print(\"\\n=== Text Generation with GPT-2 ===\")\n",
        "\n",
        "gpt2_generator = keras_nlp.models.GPT2CausalLM.from_preset(\"gpt2_base_en\")\n",
        "\n",
        "prompts = [\n",
        "    \"Large language models have revolutionized how we\",\n",
        "    \"A successful data science project begins with\",\n",
        "    \"In the next decade, we expect artificial intelligence to\",\n",
        "    \"One of the biggest ethical challenges in AI is\",\n",
        "    \"Using generative models in healthcare can help doctors\"\n",
        "]\n",
        "\n",
        "for prompt in prompts:\n",
        "    print(f\"Prompt: {prompt}\")\n",
        "    output = gpt2_generator.generate(prompt, max_length=100)\n",
        "    print(f\"Generated text: {output}\")\n",
        "    print(\"-\" * 80)\n"
      ]
    },
    {
      "cell_type": "code",
      "execution_count": 12,
      "id": "7d21311e",
      "metadata": {
        "colab": {
          "base_uri": "https://localhost:8080/"
        },
        "id": "7d21311e",
        "outputId": "a1066e0e-3c82-47a5-b2aa-a5ffa14e5704"
      },
      "outputs": [
        {
          "output_type": "stream",
          "name": "stdout",
          "text": [
            "\n",
            "=== Named Entity Recognition with BERT ===\n",
            "Example text for NER: Dr. Aisha Patel from Stanford University presented her climate research at the United Nations conference in Geneva, Switzerland in 2023.\n",
            "Token embeddings shape: (1, 512, 768)\n",
            "Note: In a real NER implementation, these token embeddings would be passed to a token-level classifier head.\n"
          ]
        }
      ],
      "source": [
        "\"\"\" Section 4: Token-level Embeddings for NER use case\"\"\"\n",
        "print(\"\\n=== Named Entity Recognition with BERT ===\")\n",
        "\n",
        "def get_token_embeddings(text):\n",
        "    inputs = embedding_model.preprocessor([text])\n",
        "    outputs = embedding_model.backbone(inputs)\n",
        "    return outputs[\"sequence_output\"].numpy()\n",
        "\n",
        "example_text = (\n",
        "    \"Dr. Aisha Patel from Stanford University presented her climate research \"\n",
        "    \"at the United Nations conference in Geneva, Switzerland in 2023.\"\n",
        ")\n",
        "\n",
        "print(f\"Example text for NER: {example_text}\")\n",
        "token_embeddings = get_token_embeddings(example_text)\n",
        "print(f\"Token embeddings shape: {token_embeddings.shape}\")\n",
        "print(\"Note: In a real NER implementation, these token embeddings would be passed to a token-level classifier head.\")\n"
      ]
    }
  ],
  "metadata": {
    "colab": {
      "provenance": []
    },
    "language_info": {
      "name": "python"
    },
    "kernelspec": {
      "name": "python3",
      "display_name": "Python 3"
    }
  },
  "nbformat": 4,
  "nbformat_minor": 5
}